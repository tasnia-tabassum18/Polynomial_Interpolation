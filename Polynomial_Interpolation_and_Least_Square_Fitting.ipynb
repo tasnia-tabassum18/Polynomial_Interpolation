{
  "nbformat": 4,
  "nbformat_minor": 0,
  "metadata": {
    "colab": {
      "provenance": []
    },
    "kernelspec": {
      "name": "python3",
      "display_name": "Python 3"
    },
    "language_info": {
      "name": "python"
    }
  },
  "cells": [
    {
      "cell_type": "markdown",
      "metadata": {
        "id": "x6y3Y_sXIvrI"
      },
      "source": [
        "In this assignment, we will examine polynomial interpolation and least square fitting of polynomials to a set of points.\n",
        "\n",
        "Input: Suppose we have n points: $(t_1, y_1), (t_2, y_2), \\ldots , (t_n, y_n)$."
      ]
    },
    {
      "cell_type": "markdown",
      "metadata": {
        "id": "WfC8i8aEK6z-"
      },
      "source": [
        "#### **Import necessary packages:**"
      ]
    },
    {
      "cell_type": "code",
      "metadata": {
        "id": "Ojnxg81EF32Q"
      },
      "source": [
        "import numpy as np\n",
        "import matplotlib.pyplot as plt"
      ],
      "execution_count": null,
      "outputs": []
    },
    {
      "cell_type": "markdown",
      "metadata": {
        "id": "R8Kmg1EZLK6H"
      },
      "source": [
        "#### **A. Polynomial Interpolation:**\n",
        "First, we would like to fit a polynomial of degree n-1 to the set of points, i.e. we will fit a polynomial:\n",
        "\n",
        "$$p(t) = c_0 + c_1t + \\cdots + c_{n−1}t^{n−1}$$\n",
        "\n",
        "So that it goes through all the n points. Our task is to find the coefficient $c_0, c_1, \\ldots , c_{n-1}$.\n",
        "\n",
        "In this assignment $n=7$, we will fit a $6$-degree polynomial. The $7$ points are as follows:\n",
        "\n",
        "$$(1, 4), (3, 7), (4, 2), (7, 2), (10, 5), (12, 10), (15, 4)$$"
      ]
    },
    {
      "cell_type": "markdown",
      "metadata": {
        "id": "ACTInRcTM8xn"
      },
      "source": [
        "##### **Step 1: Set up the system of linear equations**\n",
        "We can set up the system of equations $Ac=y$ to represent the n given conditions $p(t_i)=y_i$ that the polynomial must satisfy. Here, $c$ is the vector of coefficients and $y$ is the vectors of the $y_i$’s.  The matrix $A$ is called the Vandermonde matrix which represents the coefficients of the $n$ linear equations (linear in terms of the $c_i$’s).\n",
        "\n",
        "☢ Long story huh..? 🤯 Let's go step by step. 🔽\n",
        "\n",
        "⚡ From the given data point create two numpy array $t$ and $y$\n",
        "\n",
        "⚡ Using $t$ create the vendermonde matrix. (How 🤔? You have go through your lecture first.)\n",
        "\n",
        "**Hint: You can use `np.vander()` to create $A$. Saw the `numpy` documentation for more details.\n",
        " \n",
        "That's all you have to do for this step. 👻\n"
      ]
    },
    {
      "cell_type": "code",
      "metadata": {
        "id": "1HMxL3HkM8QJ",
        "colab": {
          "base_uri": "https://localhost:8080/"
        },
        "outputId": "af2fabaa-7f92-48c0-f4c8-bdc0d34ab792"
      },
      "source": [
        "# Write appropriate code\n",
        "t = np.array([1,3,4,7,10,12,15])\n",
        "y = np.array([4,7,2,2,5,10,4]) #y is the p(t) values\n",
        "\n",
        "#print('t:',t)\n",
        "#print('y:',y)\n",
        "A = np.array([t**i for i in range(7)]).T\n",
        "print(A)\n"
      ],
      "execution_count": null,
      "outputs": [
        {
          "output_type": "stream",
          "name": "stdout",
          "text": [
            "[[       1        1        1        1        1        1        1]\n",
            " [       1        3        9       27       81      243      729]\n",
            " [       1        4       16       64      256     1024     4096]\n",
            " [       1        7       49      343     2401    16807   117649]\n",
            " [       1       10      100     1000    10000   100000  1000000]\n",
            " [       1       12      144     1728    20736   248832  2985984]\n",
            " [       1       15      225     3375    50625   759375 11390625]]\n"
          ]
        }
      ]
    },
    {
      "cell_type": "code",
      "source": [
        "#another way \\\\ doesnt work so dont use, TODO\n",
        "b = np.array([t**0])\n",
        "\n",
        "for i in range(1,7):\n",
        "  b = np.concatenate((b,np.array([t**i])),axis=1)\n",
        "\n",
        "print(b)"
      ],
      "metadata": {
        "colab": {
          "base_uri": "https://localhost:8080/"
        },
        "id": "5hJBX4NGIEA3",
        "outputId": "2b7c7016-bc15-4c86-9427-54fb6dd95414"
      },
      "execution_count": null,
      "outputs": [
        {
          "output_type": "stream",
          "name": "stdout",
          "text": [
            "[[       1        1        1        1        1        1        1        1\n",
            "         3        4        7       10       12       16        1        9\n",
            "        16       49      100      144      256        1       27       64\n",
            "       343     1000     1728     4096        1       81      256     2401\n",
            "     10000    20736    65536        1      243     1024    16807   100000\n",
            "    248832  1048576        1      729     4096   117649  1000000  2985984\n",
            "  16777216]]\n"
          ]
        }
      ]
    },
    {
      "cell_type": "markdown",
      "metadata": {
        "id": "GiWu4DMUW68F"
      },
      "source": [
        "##### **Step 2: Find the coefficient vector $c$**\n",
        "Since the Vandermonde matrix is invertible if $t_i ≠ t_j$, for $i ≠ j$ (see slide on inverses), we can simply find $c$ using `c = np.linalg.inv(A).dot(y)`. Of course, you can use the QR-decomposition of $A$ to find the inverse if you want.😜"
      ]
    },
    {
      "cell_type": "code",
      "metadata": {
        "id": "8vFh403niA6b",
        "colab": {
          "base_uri": "https://localhost:8080/"
        },
        "outputId": "7a2be8ef-ad56-4378-fec6-bbe9d61d1550"
      },
      "source": [
        "c = np.linalg.inv(A).dot(y)\n",
        "print(c)"
      ],
      "execution_count": null,
      "outputs": [
        {
          "output_type": "stream",
          "name": "stdout",
          "text": [
            "[-3.37575758e+01  6.28880231e+01 -3.12842232e+01  6.86690316e+00\n",
            " -7.52765753e-01  4.04882155e-02 -8.49767516e-04]\n"
          ]
        }
      ]
    },
    {
      "cell_type": "markdown",
      "metadata": {
        "id": "FBBV-BMolADh"
      },
      "source": [
        "##### **Step 3: Plot the points and the polynomial**\n",
        "⚡ Plot the given n points\n",
        "\n",
        "⚡ Calculate the value of $p$ for new $t$ using coefficient vector $c$\n",
        "\n",
        "⚡ Plot the polynomial"
      ]
    },
    {
      "cell_type": "code",
      "metadata": {
        "id": "kwiBDsWHZcf7",
        "colab": {
          "base_uri": "https://localhost:8080/",
          "height": 265
        },
        "outputId": "ad3087d4-f856-4cb2-ab37-0144a5748c16"
      },
      "source": [
        "#1\n",
        "plt.scatter(t,y)\n",
        "#2\n",
        "t_new = np.linspace(1,15,150)\n",
        "#p_new = c[0] + c[1]*t_new + c[2]*t_new**2 + c[3]*t_new**3+ c[4]*t_new**4+ c[5]*t_new**5 + c[6]*t_new**6\n",
        "p_new = np.zeros(150) \n",
        "\n",
        "for i in range(7):\n",
        "  p_new += c[i]*t_new**i \n",
        "\n",
        "plt.plot(t_new,p_new)\n",
        "plt.show()\n"
      ],
      "execution_count": null,
      "outputs": [
        {
          "output_type": "display_data",
          "data": {
            "text/plain": [
              "<Figure size 432x288 with 1 Axes>"
            ],
            "image/png": "[encoded data removed]"
          },
          "metadata": {
            "needs_background": "light"
          }
        }
      ]
    },
    {
      "cell_type": "markdown",
      "metadata": {
        "id": "l-bN9edTmhnk"
      },
      "source": [
        "#### **B. Polynomial interpolation using two cubic polynomials:**\n",
        "In this part, you we will fit the following two cubic polynomials $p(t)$ and $q(t)$ to the n points:\n",
        "\n",
        "$$p(t) = c_0 + c_1 t + c_2 t^2 + c_3 t^3, q(t) = d_0 + d_1t + d_2 t^2 + d_3 t^3$$\n",
        "\n",
        "that satisfies the following conditions:\n",
        "\n",
        "$$p(1) = 4$$ \n",
        "$$p(3) = 7$$ \n",
        "$$p(4) =2$$\n",
        "$$q(10) = 5$$ \n",
        "$$q(12) = 10$$ \n",
        "$$p(15) = 4$$\n",
        "$$p(7) = q(7)$$ \n",
        "$$ p’(7) = q’(7)$$\n",
        "\n",
        "**Note: $p’(7)$ and $q'(7)$ are the derivatives of $p(t)$ and $q(t)$ at $t = 7$ respectively"
      ]
    },
    {
      "cell_type": "markdown",
      "metadata": {
        "id": "-aKzQaA4oNko"
      },
      "source": [
        "##### **Step 1: Set up the system of linear equations**\n",
        "We can set up the system of equations $Ax=b$ to represent the given conditions that the polynomials must satisfy. Here, $x$ is the vector of coefficients:   \n",
        "\n",
        "$$x=[c_0, c_1, c_2, c_3, d_0, d_1, d_2, d_3]$$\n",
        "\n",
        "The matrix $A$ is called the Vandermonde matrix.\n",
        "\n",
        "💥 Stucked again? Need hints?😲 Here you go: 🔽\n",
        "\n",
        "⚡ From given conditions create three numpy array $p_t, q_t$ and $b$\n",
        "\n",
        "⚡ Using $p_t, q_t$ and the conditions make the Vendermonde matrix $A$ (This is the tricky part. 👊)\n",
        "\n",
        "**Hint: You can use `np.column_stack((..,..))` and `np.row_stack((..,..))` to creat matrix $A$. Saw the `numpy` documentation for more details."
      ]
    },
    {
      "cell_type": "code",
      "metadata": {
        "id": "HiIRWwNdsqPJ",
        "colab": {
          "base_uri": "https://localhost:8080/"
        },
        "outputId": "32e45c8e-d554-47cd-c455-ff26b8ea93c3"
      },
      "source": [
        "t = np.array([1,3,4,7,10,12,15])\n",
        "y = np.array([4,7,2,2,5,10,4]) #y is the p(t) values\n",
        "\n",
        "#print('t:',t)\n",
        "#print('y:',y)\n",
        "A = np.array([t**i for i in range(3)]).T\n",
        "print(A)"
      ],
      "execution_count": null,
      "outputs": [
        {
          "output_type": "stream",
          "name": "stdout",
          "text": [
            "[[  1   1   1]\n",
            " [  1   3   9]\n",
            " [  1   4  16]\n",
            " [  1   7  49]\n",
            " [  1  10 100]\n",
            " [  1  12 144]\n",
            " [  1  15 225]]\n"
          ]
        }
      ]
    },
    {
      "cell_type": "markdown",
      "metadata": {
        "id": "1YaDg4VNz-4S"
      },
      "source": [
        "##### **Step 2: Find the coefficient vector $x$**\n",
        "You have to find the coefficient vector $x$. This time find your way around, no hints from this side.🚸"
      ]
    },
    {
      "cell_type": "code",
      "metadata": {
        "id": "31XyiFCGv2BW"
      },
      "source": [],
      "execution_count": null,
      "outputs": []
    },
    {
      "cell_type": "markdown",
      "metadata": {
        "id": "sQiek0aC2j0o"
      },
      "source": [
        "##### **Step 3: Plot the points and the polynomials**\n",
        "⚡ Plot the given points given in condition\n",
        "\n",
        "⚡ Plot the polynomials"
      ]
    },
    {
      "cell_type": "code",
      "metadata": {
        "id": "RwDTzuzi2x6l"
      },
      "source": [
        "# Write appropriate code"
      ],
      "execution_count": null,
      "outputs": []
    },
    {
      "cell_type": "markdown",
      "metadata": {
        "id": "LMi0Vfbb7UFl"
      },
      "source": [
        "#### **C. Least-square polynomial fitting:**\n",
        "Now we will fit a quadratic polynomial $p(t) = c_0 + c_1 t + c_2 t^2$ , to the $n = 7$ points. Of course, we do not require here that all the conditions will be satisfied. We wish to find a polynomial that minimized the sum of squared errors at each $t_i$."
      ]
    },
    {
      "cell_type": "markdown",
      "metadata": {
        "id": "ndg-B4T97uKe"
      },
      "source": [
        "##### **Step 1: Set up the system of linear equations**\n",
        "Set up a system of equations $Ac = y$ that corresponds to the points. $Ac = y$, is unlikely to have a solution and so we aim to find $c$, that minimizes $∥ Ac − y ∥^2$."
      ]
    },
    {
      "cell_type": "code",
      "metadata": {
        "id": "UpKzGv1Q8dxl",
        "colab": {
          "base_uri": "https://localhost:8080/"
        },
        "outputId": "a895d350-6061-45a8-82e0-299664e76396"
      },
      "source": [
        "t = np.array([1,3,4,7,10,12,15])\n",
        "y = np.array([4,7,2,2,5,10,4]) #y is the p(t) values\n",
        "\n",
        "#print('t:',t)\n",
        "#print('y:',y)\n",
        "A = np.array([t**i for i in range(3)]).T\n",
        "print(A)\n",
        "\n",
        "m = (np.dot(A.T,A))\n",
        "n = np.linalg.inv(m)\n",
        "A_t = np.dot(n,A.T)\n",
        "print(A_t)\n"
      ],
      "execution_count": null,
      "outputs": [
        {
          "output_type": "stream",
          "name": "stdout",
          "text": [
            "[[  1   1   1]\n",
            " [  1   3   9]\n",
            " [  1   4  16]\n",
            " [  1   7  49]\n",
            " [  1  10 100]\n",
            " [  1  12 144]\n",
            " [  1  15 225]]\n",
            "[[ 8.81354728e-01  3.75733716e-01  1.75082787e-01 -2.18231691e-01\n",
            "  -2.98588707e-01 -1.78294794e-01  2.62943960e-01]\n",
            " [-2.13676611e-01 -3.77173908e-02  2.95618311e-02  1.48597945e-01\n",
            "   1.43431731e-01  7.09862945e-02 -1.41183800e-01]\n",
            " [ 1.09222439e-02  6.08765272e-04 -3.24043149e-03 -9.55785165e-03\n",
            "  -8.03001663e-03 -2.65298484e-03  1.19502755e-02]]\n"
          ]
        }
      ]
    },
    {
      "cell_type": "markdown",
      "metadata": {
        "id": "qdqcd-Kx9l7u"
      },
      "source": [
        "##### **Step 2: Find the coefficient vector $c$**\n",
        "We find $c$ using $c = A^† y = (A^T A)^{−1} A^T y = R^{−1} Q^T y$, where $A = QR $ is the QR-decomposition of the matrix $A$. Numpy function `np.linalg.pinv(A)` gives you the pseudo-inverse $A^†$"
      ]
    },
    {
      "cell_type": "code",
      "metadata": {
        "id": "Wg6ZFu9j-UTn",
        "colab": {
          "base_uri": "https://localhost:8080/"
        },
        "outputId": "992e7cc9-af48-4bfb-bbae-27b62c263b15"
      },
      "source": [
        "c = np.dot(A_t,y)\n",
        "print(\"c\\n\",c)"
      ],
      "execution_count": null,
      "outputs": [
        {
          "output_type": "stream",
          "name": "stdout",
          "text": [
            "c\n",
            " [3.84514148e+00 9.98777732e-02 3.47493640e-03]\n"
          ]
        }
      ]
    },
    {
      "cell_type": "markdown",
      "metadata": {
        "id": "HdOsv1c7-rK9"
      },
      "source": [
        "##### **Step 3: Plot the points and the polynomial**\n",
        "⚡ Plot the given points given in condition\n",
        "\n",
        "⚡ Plot the polynomial"
      ]
    },
    {
      "cell_type": "code",
      "metadata": {
        "id": "8hmQBK4b-zd8",
        "colab": {
          "base_uri": "https://localhost:8080/",
          "height": 265
        },
        "outputId": "07ca8c50-cf46-4094-9e20-e2b6e9cd529c"
      },
      "source": [
        "plt.scatter(t,y)\n",
        "t_new = np.linspace(1,15,150)\n",
        "p_new = np.zeros(150) \n",
        "\n",
        "for i in range(3):\n",
        "  p_new += c[i]*t_new**i \n",
        "\n",
        "plt.plot(t_new,p_new,color='r')\n",
        "plt.show()\n"
      ],
      "execution_count": null,
      "outputs": [
        {
          "output_type": "display_data",
          "data": {
            "text/plain": [
              "<Figure size 432x288 with 1 Axes>"
            ],
            "image/png": "[encoded data removed]"
          },
          "metadata": {
            "needs_background": "light"
          }
        }
      ]
    }
  ]
}